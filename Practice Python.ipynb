{
 "cells": [
  {
   "cell_type": "markdown",
   "id": "99902a8f",
   "metadata": {},
   "source": [
    "# Create a calculator"
   ]
  },
  {
   "cell_type": "code",
   "execution_count": 5,
   "id": "1e9bea07",
   "metadata": {},
   "outputs": [
    {
     "name": "stdout",
     "output_type": "stream",
     "text": [
      "Enter a number: 56\n",
      "Enter another number: 3.54\n",
      "59.54\n"
     ]
    }
   ],
   "source": [
    "num1 = input('Enter a number: ')\n",
    "num2 = input('Enter another number: ')\n",
    "result = float(num1) + float(num2)\n",
    "print(result)"
   ]
  },
  {
   "cell_type": "markdown",
   "id": "d0a1576f",
   "metadata": {},
   "source": [
    "# mad libs game"
   ]
  },
  {
   "cell_type": "code",
   "execution_count": 7,
   "id": "addf63af",
   "metadata": {},
   "outputs": [
    {
     "name": "stdout",
     "output_type": "stream",
     "text": [
      "Enter a color: asdfa\n",
      "Enter a plural noun: sa\n",
      "Enter a celebrity: fs\n",
      "Roses are asdfa\n",
      "sa are blue\n",
      "I love fs\n"
     ]
    }
   ],
   "source": [
    "#mad libs game\n",
    "color = input('Enter a color: ')\n",
    "plural_noun = input('Enter a plural noun: ')\n",
    "celebrity = input('Enter a celebrity: ')\n",
    "\n",
    "print('Roses are ' + color)\n",
    "print(plural_noun + ' are blue')\n",
    "print('I love ' + celebrity)\n",
    "\n"
   ]
  },
  {
   "cell_type": "markdown",
   "id": "d9ec81ca",
   "metadata": {},
   "source": [
    "# create lists"
   ]
  },
  {
   "cell_type": "code",
   "execution_count": 15,
   "id": "46be6246",
   "metadata": {},
   "outputs": [
    {
     "name": "stdout",
     "output_type": "stream",
     "text": [
      "['Mile', 'June']\n"
     ]
    }
   ],
   "source": [
    "#create lists\n",
    "friends = ['Kevin', 'Anne', 'June']\n",
    "friends[1] = 'Mile'\n",
    "print (friends[1:4])\n",
    "\n"
   ]
  },
  {
   "cell_type": "markdown",
   "id": "5479e997",
   "metadata": {},
   "source": [
    "# List Functions "
   ]
  },
  {
   "cell_type": "code",
   "execution_count": 38,
   "id": "d72e7c7c",
   "metadata": {},
   "outputs": [
    {
     "name": "stdout",
     "output_type": "stream",
     "text": [
      "None\n",
      "None\n",
      "0\n",
      "2\n",
      "['Karen', 'Karen', 'Kevin', 'Oscar']\n"
     ]
    }
   ],
   "source": [
    "#List Functions\n",
    "\n",
    "lucky_numbers = [4, 8, 15, 16, 32, 42]\n",
    "friends = ['Kevin', 'Karen', 'Karen', 'Jim', 'Oscar', 'Tabitha']\n",
    "friends.remove('Jim') #remove specific item in the list\n",
    "friends.pop() #remove last item in the list\n",
    "friends.sort() #sort in ascending order\n",
    "friends2 = friends.copy() #copy the other list exactly\n",
    "print(lucky_numbers.reverse())\n",
    "print(friends.sort())\n",
    "print(friends.index('Karen')) #index position of the item in the list\n",
    "print(friends.count('Karen')) #number of times it appears on the list\n",
    "print(friends2)\n",
    "\n",
    "\n"
   ]
  },
  {
   "cell_type": "markdown",
   "id": "617696f4",
   "metadata": {},
   "source": [
    "# tuples are immutable"
   ]
  },
  {
   "cell_type": "code",
   "execution_count": 39,
   "id": "53b9dab6",
   "metadata": {},
   "outputs": [
    {
     "name": "stdout",
     "output_type": "stream",
     "text": [
      "5\n"
     ]
    }
   ],
   "source": [
    "#tuples are immutable\n",
    "coordinates = (5,6)\n",
    "print(coordinates[0])\n",
    "\n",
    "\n"
   ]
  },
  {
   "cell_type": "markdown",
   "id": "e8b35cf7",
   "metadata": {},
   "source": [
    "# functions in Python"
   ]
  },
  {
   "cell_type": "code",
   "execution_count": 3,
   "id": "61779d62",
   "metadata": {},
   "outputs": [
    {
     "name": "stdout",
     "output_type": "stream",
     "text": [
      "Top\n",
      "Hello Mark, you are 28\n",
      "Hello Martin, you are 32\n",
      "Bottom\n"
     ]
    }
   ],
   "source": [
    "# functions in Python\n",
    "\n",
    "def say_hi(name, age):\n",
    "    print('Hello ' + name + ', you are ' + str(age))\n",
    "    \n",
    "print('Top')\n",
    "say_hi('Mark', 28)\n",
    "say_hi('Martin', 32)\n",
    "print('Bottom')"
   ]
  },
  {
   "cell_type": "markdown",
   "id": "40ea9bb9",
   "metadata": {},
   "source": [
    "# Return Statement"
   ]
  },
  {
   "cell_type": "code",
   "execution_count": 4,
   "id": "4a13ff89",
   "metadata": {},
   "outputs": [
    {
     "name": "stdout",
     "output_type": "stream",
     "text": [
      "729\n",
      "8\n"
     ]
    }
   ],
   "source": [
    "def cube(num):\n",
    "    return num*num*num \n",
    "    \n",
    "result = cube(9)\n",
    "print(result)\n",
    "print(cube(2))"
   ]
  },
  {
   "cell_type": "markdown",
   "id": "eaf81db6",
   "metadata": {},
   "source": [
    "# If Statements"
   ]
  },
  {
   "cell_type": "code",
   "execution_count": 1,
   "id": "b3c3fa27",
   "metadata": {},
   "outputs": [
    {
     "name": "stdout",
     "output_type": "stream",
     "text": [
      "You are a tall male\n",
      "You are not a tall male\n",
      "You are a tall gal\n"
     ]
    }
   ],
   "source": [
    "is_male = True \n",
    "is_tall = True \n",
    "\n",
    "if is_male or is_tall:\n",
    "    print('You are a tall male')\n",
    "else:\n",
    "    print('You are not a tall male')\n",
    "    \n",
    "\n",
    "is_male = True \n",
    "is_tall = False \n",
    "\n",
    "if is_male and is_tall:\n",
    "    print('You are a tall male')\n",
    "else:\n",
    "    print('You are not a tall male')\n",
    "    \n",
    "is_male = False \n",
    "is_tall = True \n",
    "\n",
    "if is_male and is_tall:\n",
    "    print('You are a tall male')\n",
    "elif is_male and not(is_tall):\n",
    "    print('You are a short male')\n",
    "elif not(is_male) and is_tall:\n",
    "    print('You are a tall gal')\n",
    "else:\n",
    "    print('You are not a tall gal')\n",
    "\n"
   ]
  },
  {
   "cell_type": "markdown",
   "id": "c77ae8f0",
   "metadata": {},
   "source": [
    "# if statements and comparisons"
   ]
  },
  {
   "cell_type": "code",
   "execution_count": 7,
   "id": "12f96406",
   "metadata": {},
   "outputs": [
    {
     "name": "stdout",
     "output_type": "stream",
     "text": [
      "54\n",
      "43\n"
     ]
    }
   ],
   "source": [
    "def max_num(num1, num2, num3):\n",
    "    if num1 >= num2 and num1 >= num3: \n",
    "        return num1\n",
    "    elif num2 >= num1 and num2 >= num3:\n",
    "        return num2\n",
    "    else:\n",
    "        return num3\n",
    "\n",
    "print(max_num(48,43,54)) \n",
    "\n",
    "\n",
    "def min_num(num1, num2, num3):\n",
    "    if num1 == num2 and num1 != num3: # == equal to, != not equal to \n",
    "        return num1\n",
    "    elif num2 <= num1 and num2 <= num3:\n",
    "        return num2\n",
    "    else:\n",
    "        return num3\n",
    "\n",
    "print(min_num(48,43,54)) "
   ]
  },
  {
   "cell_type": "markdown",
   "id": "af023fb5",
   "metadata": {},
   "source": [
    "# Building a calculator in Python"
   ]
  },
  {
   "cell_type": "code",
   "execution_count": 16,
   "id": "cf140799",
   "metadata": {},
   "outputs": [
    {
     "name": "stdout",
     "output_type": "stream",
     "text": [
      "Enter first number: 8\n",
      "Enter operator: (\n",
      "Enter second number: 9\n",
      "Invalid operator\n"
     ]
    }
   ],
   "source": [
    "num1 = float(input('Enter first number: ')) \n",
    "op = input('Enter operator: ')\n",
    "num2 = float(input('Enter second number: ')) \n",
    "\n",
    "if op == '+':\n",
    "    print (num1 + num2)\n",
    "elif op == '-':\n",
    "    print (num1 - num2)\n",
    "elif op == '/':\n",
    "    print (num1 / num2)\n",
    "elif op == '*':\n",
    "    print (num1 * num2)\n",
    "else:\n",
    "    print('Invalid operator') "
   ]
  },
  {
   "cell_type": "markdown",
   "id": "efc58e3f",
   "metadata": {},
   "source": [
    "# Dictionaries"
   ]
  },
  {
   "cell_type": "code",
   "execution_count": 11,
   "id": "6f480c16",
   "metadata": {},
   "outputs": [
    {
     "name": "stdout",
     "output_type": "stream",
     "text": [
      "November\n",
      "December\n",
      "Not a default value\n",
      "None\n",
      "February\n"
     ]
    }
   ],
   "source": [
    "monthConversions = {\n",
    "    'Jan': 'January',\n",
    "    5 : 'February',\n",
    "    'Mar': 'March',\n",
    "    'Apr': 'April',\n",
    "    'May': 'May',\n",
    "    'Jun': 'June',\n",
    "    'Jul': 'July',\n",
    "    'Aug': 'August',\n",
    "    'Sep': 'September',\n",
    "    'Oct': 'October',\n",
    "    'Nov': 'November',\n",
    "    'Dec': 'December',\n",
    "}\n",
    "\n",
    "print(monthConversions['Nov'])\n",
    "print(monthConversions.get('Dec'))\n",
    "print(monthConversions.get('Dece', 'Not a default value'))\n",
    "print(monthConversions.get('Dece'))\n",
    "print(monthConversions[5])"
   ]
  },
  {
   "cell_type": "markdown",
   "id": "a7dd8e91",
   "metadata": {},
   "source": [
    "# While Loop"
   ]
  },
  {
   "cell_type": "code",
   "execution_count": 6,
   "id": "97a34ebd",
   "metadata": {},
   "outputs": [
    {
     "name": "stdout",
     "output_type": "stream",
     "text": [
      "1\n",
      "2\n",
      "3\n",
      "4\n",
      "5\n",
      "6\n",
      "7\n",
      "8\n",
      "9\n",
      "10\n",
      "Done\n"
     ]
    }
   ],
   "source": [
    "i = 1\n",
    "while i <= 10:\n",
    "    print(i)\n",
    "    i += 1\n",
    "\n",
    "print('Done')"
   ]
  },
  {
   "cell_type": "code",
   "execution_count": 16,
   "id": "45989f9b",
   "metadata": {},
   "outputs": [
    {
     "name": "stdout",
     "output_type": "stream",
     "text": [
      "What is the secret word: k\n",
      "What is the secret word: k\n",
      "What is the secret word: i\n",
      "so sad\n"
     ]
    }
   ],
   "source": [
    "secret_word = 'giraffe'\n",
    "guess = ''\n",
    "guess_count = 0 \n",
    "guess_limit = 3\n",
    "out_of_guesses = False\n",
    "\n",
    "while guess != secret_word and not(out_of_guesses):\n",
    "    if guess_count < guess_limit:\n",
    "        guess = input('What is the secret word: ')\n",
    "        guess_count += 1   \n",
    "    else:\n",
    "        out_of_guesses = True \n",
    "\n",
    "if out_of_guesses == True:\n",
    "    print('so sad')\n",
    "else:\n",
    "    print('correct')\n",
    "\n",
    "\n",
    "\n"
   ]
  },
  {
   "cell_type": "markdown",
   "id": "95f309b8",
   "metadata": {},
   "source": [
    "# For Loop"
   ]
  },
  {
   "cell_type": "code",
   "execution_count": 17,
   "id": "9f157c81",
   "metadata": {},
   "outputs": [
    {
     "name": "stdout",
     "output_type": "stream",
     "text": [
      "G\n",
      "i\n",
      "r\n",
      "a\n",
      "f\n",
      "f\n",
      "e\n",
      " \n",
      "A\n",
      "c\n",
      "a\n",
      "d\n",
      "e\n",
      "m\n",
      "y\n"
     ]
    }
   ],
   "source": [
    "for letter in 'Giraffe Academy':\n",
    "    print(letter)"
   ]
  },
  {
   "cell_type": "code",
   "execution_count": 44,
   "id": "fd929e07",
   "metadata": {},
   "outputs": [
    {
     "name": "stdout",
     "output_type": "stream",
     "text": [
      "['Jim', 'Sam', 'Doe']\n",
      "['Jim', 'Sam', 'Doe']\n",
      "['Jim', 'Sam', 'Doe']\n",
      "0\n",
      "1\n",
      "2\n",
      "3\n",
      "4\n",
      "Jim\n",
      "Sam\n",
      "Doe\n",
      " \n",
      "12\n",
      "2\n",
      "43\n",
      "543\n",
      "64\n",
      "656\n",
      "65\n",
      "67\n",
      "876\n",
      "567\n",
      "8\n"
     ]
    }
   ],
   "source": [
    "friends = ['Jim', 'Sam', 'Doe']\n",
    "for fr in friends:\n",
    "    print(friends)\n",
    "\n",
    "for index in range(5):\n",
    "    print(index)\n",
    "    \n",
    "friends = ['Jim', 'Sam', 'Doe']\n",
    "for fr in friends:\n",
    "    print(fr)\n",
    "\n",
    "for index in range(20):\n",
    "    if index >= 12:\n",
    "        print('not qualified')\n",
    "    else:\n",
    "        print(index)\n",
    "\n",
    "\n",
    "matrix = [' ',12,2,43,543,64,656,65,67,876,567,8]\n",
    "for index in matrix:\n",
    "    print(index)"
   ]
  },
  {
   "cell_type": "code",
   "execution_count": 46,
   "id": "d2a72cc1",
   "metadata": {},
   "outputs": [
    {
     "name": "stdout",
     "output_type": "stream",
     "text": [
      "Jim\n",
      "Sam\n",
      "Doe\n"
     ]
    }
   ],
   "source": [
    "friends = ['Jim', 'Sam', 'Doe']\n",
    "for index in range(len(friends)):\n",
    "    print(friends[index])"
   ]
  },
  {
   "cell_type": "markdown",
   "id": "e24383d8",
   "metadata": {},
   "source": [
    "# Exponent Function"
   ]
  },
  {
   "cell_type": "code",
   "execution_count": 60,
   "id": "a8346747",
   "metadata": {},
   "outputs": [
    {
     "name": "stdout",
     "output_type": "stream",
     "text": [
      "8\n",
      " \n",
      "8\n",
      "8\n",
      " \n",
      "8\n"
     ]
    }
   ],
   "source": [
    "print(2**3)\n",
    "\n",
    "print(' ')\n",
    "\n",
    "def cube(num):\n",
    "    return num*num*num \n",
    "    \n",
    "result = cube(2)\n",
    "print(result)\n",
    "print(cube(2))\n",
    "\n",
    "print(' ')\n",
    "\n",
    "def raise_to_power(base_num, pow_num):\n",
    "    result = 1\n",
    "    for index in range(pow_num):\n",
    "        result = result*base_num\n",
    "    return result \n",
    "\n",
    "print(raise_to_power(2,3))"
   ]
  },
  {
   "cell_type": "markdown",
   "id": "3c810c5a",
   "metadata": {},
   "source": [
    "# 2D Lists and Nested Loops"
   ]
  },
  {
   "cell_type": "code",
   "execution_count": 1,
   "id": "1c6d37a6",
   "metadata": {},
   "outputs": [
    {
     "name": "stdout",
     "output_type": "stream",
     "text": [
      "1\n"
     ]
    }
   ],
   "source": [
    "number_grid = [\n",
    "    [1, 2, 3],\n",
    "    [4, 5, 6],\n",
    "    [7, 8, 9],\n",
    "    [0]\n",
    "]\n",
    "\n",
    "print(number_grid[0][0])"
   ]
  },
  {
   "cell_type": "code",
   "execution_count": 2,
   "id": "388b61d8",
   "metadata": {},
   "outputs": [
    {
     "name": "stdout",
     "output_type": "stream",
     "text": [
      "[1, 2, 3]\n",
      "[4, 5, 6]\n",
      "[7, 8, 9]\n",
      "[0]\n"
     ]
    }
   ],
   "source": [
    "for row in number_grid: \n",
    "    print(row)"
   ]
  },
  {
   "cell_type": "code",
   "execution_count": 3,
   "id": "910d47f1",
   "metadata": {},
   "outputs": [
    {
     "name": "stdout",
     "output_type": "stream",
     "text": [
      "1\n",
      "2\n",
      "3\n",
      "4\n",
      "5\n",
      "6\n",
      "7\n",
      "8\n",
      "9\n",
      "0\n"
     ]
    }
   ],
   "source": [
    "for row in number_grid:\n",
    "    for col in row:\n",
    "        print(col)"
   ]
  },
  {
   "cell_type": "markdown",
   "id": "c60239a9",
   "metadata": {},
   "source": [
    "# Building a Translator"
   ]
  },
  {
   "cell_type": "code",
   "execution_count": 3,
   "id": "9db5d24d",
   "metadata": {},
   "outputs": [
    {
     "name": "stdout",
     "output_type": "stream",
     "text": [
      "Enter a phrase: aaaa\n",
      "gggg\n"
     ]
    }
   ],
   "source": [
    "def translation(phrase):\n",
    "    translation = ''\n",
    "    for letter in phrase:\n",
    "        if letter in 'AEIOUaeiou':\n",
    "            translation = translation + 'g'\n",
    "        else:\n",
    "            translation = translation + letter\n",
    "    return translation\n",
    "\n",
    "print (translation(input('Enter a phrase: ')))"
   ]
  },
  {
   "cell_type": "markdown",
   "id": "b1166194",
   "metadata": {},
   "source": [
    "# Try/ Except"
   ]
  },
  {
   "cell_type": "code",
   "execution_count": 5,
   "id": "11c8e333",
   "metadata": {},
   "outputs": [
    {
     "name": "stdout",
     "output_type": "stream",
     "text": [
      "Enter a number: 3\n",
      "3\n"
     ]
    }
   ],
   "source": [
    "number = int(input('Enter a number: '))\n",
    "print(number)"
   ]
  },
  {
   "cell_type": "code",
   "execution_count": 6,
   "id": "82644540",
   "metadata": {},
   "outputs": [
    {
     "name": "stdout",
     "output_type": "stream",
     "text": [
      "Enter a number: da\n",
      "Invalid Input\n"
     ]
    }
   ],
   "source": [
    "try:\n",
    "    number = int(input('Enter a number: '))\n",
    "    print(number)\n",
    "except:\n",
    "    print('Invalid Input')"
   ]
  },
  {
   "cell_type": "code",
   "execution_count": 7,
   "id": "edcd7c72",
   "metadata": {},
   "outputs": [
    {
     "name": "stdout",
     "output_type": "stream",
     "text": [
      "Invalid Input\n"
     ]
    }
   ],
   "source": [
    "try:\n",
    "    value = 10/0\n",
    "    number = int(input('Enter a number: '))\n",
    "    print(number)\n",
    "except:\n",
    "    print('Invalid Input')"
   ]
  },
  {
   "cell_type": "code",
   "execution_count": 9,
   "id": "c892f278",
   "metadata": {},
   "outputs": [
    {
     "name": "stdout",
     "output_type": "stream",
     "text": [
      "Divided by zero\n"
     ]
    }
   ],
   "source": [
    "try:\n",
    "    value = 10/0\n",
    "    number = int(input('Enter a number: '))\n",
    "    print(number)\n",
    "except ZeroDivisionError:\n",
    "    print('Divided by zero')\n",
    "except ValueError:\n",
    "    print('Invalid Input')"
   ]
  },
  {
   "cell_type": "code",
   "execution_count": 10,
   "id": "be67f8b2",
   "metadata": {},
   "outputs": [
    {
     "name": "stdout",
     "output_type": "stream",
     "text": [
      "division by zero\n"
     ]
    }
   ],
   "source": [
    "try:\n",
    "    value = 10/0\n",
    "    number = int(input('Enter a number: '))\n",
    "    print(number)\n",
    "except ZeroDivisionError as err:\n",
    "    print(err)\n",
    "except ValueError:\n",
    "    print('Invalid Input')"
   ]
  },
  {
   "cell_type": "code",
   "execution_count": null,
   "id": "dd7aae78",
   "metadata": {},
   "outputs": [],
   "source": [
    "try:\n",
    "    value = 10/0\n",
    "    number = int(input('Enter a number: '))\n",
    "    print(number)\n",
    "except ZeroDivisionError as err:\n",
    "    print('Divided by zero')\n",
    "except ValueError:\n",
    "    print('Invalid Input')"
   ]
  },
  {
   "cell_type": "markdown",
   "id": "99e688df",
   "metadata": {},
   "source": [
    "# Reading Files"
   ]
  },
  {
   "cell_type": "code",
   "execution_count": null,
   "id": "4fe57754",
   "metadata": {},
   "outputs": [],
   "source": [
    "# ensure the python file and items you want to analyse are in the same folder\n",
    "employee_file = open('employee.txt', 'r') #r - read, r+ read and write, a append, w write\n",
    "\n",
    "print(employee_file.read()) #display the items ihe file \n",
    "\n",
    "employee_file.close() #you need to close of the document as you are reading them"
   ]
  },
  {
   "cell_type": "markdown",
   "id": "8e69c5ab",
   "metadata": {},
   "source": [
    "# Modules and Pips"
   ]
  },
  {
   "cell_type": "code",
   "execution_count": null,
   "id": "331d376e",
   "metadata": {},
   "outputs": [],
   "source": []
  },
  {
   "cell_type": "code",
   "execution_count": null,
   "id": "948204dc",
   "metadata": {},
   "outputs": [],
   "source": []
  },
  {
   "cell_type": "code",
   "execution_count": null,
   "id": "93a87c87",
   "metadata": {},
   "outputs": [],
   "source": []
  },
  {
   "cell_type": "code",
   "execution_count": null,
   "id": "ba86e3e3",
   "metadata": {},
   "outputs": [],
   "source": []
  },
  {
   "cell_type": "code",
   "execution_count": null,
   "id": "51fbdade",
   "metadata": {},
   "outputs": [],
   "source": []
  },
  {
   "cell_type": "code",
   "execution_count": null,
   "id": "dae3965f",
   "metadata": {},
   "outputs": [],
   "source": []
  },
  {
   "cell_type": "code",
   "execution_count": null,
   "id": "9a5e1b5c",
   "metadata": {},
   "outputs": [],
   "source": []
  },
  {
   "cell_type": "code",
   "execution_count": null,
   "id": "17383c0a",
   "metadata": {},
   "outputs": [],
   "source": []
  },
  {
   "cell_type": "code",
   "execution_count": null,
   "id": "96ec6f3f",
   "metadata": {},
   "outputs": [],
   "source": []
  },
  {
   "cell_type": "code",
   "execution_count": null,
   "id": "e0120788",
   "metadata": {},
   "outputs": [],
   "source": []
  },
  {
   "cell_type": "code",
   "execution_count": null,
   "id": "c84963a2",
   "metadata": {},
   "outputs": [],
   "source": []
  },
  {
   "cell_type": "code",
   "execution_count": null,
   "id": "863c7eec",
   "metadata": {},
   "outputs": [],
   "source": []
  },
  {
   "cell_type": "code",
   "execution_count": null,
   "id": "91a3a5ea",
   "metadata": {},
   "outputs": [],
   "source": []
  },
  {
   "cell_type": "code",
   "execution_count": null,
   "id": "4424f70e",
   "metadata": {},
   "outputs": [],
   "source": []
  },
  {
   "cell_type": "code",
   "execution_count": null,
   "id": "798611b2",
   "metadata": {},
   "outputs": [],
   "source": []
  },
  {
   "cell_type": "code",
   "execution_count": null,
   "id": "11ce9b84",
   "metadata": {},
   "outputs": [],
   "source": []
  },
  {
   "cell_type": "code",
   "execution_count": null,
   "id": "44c45219",
   "metadata": {},
   "outputs": [],
   "source": []
  },
  {
   "cell_type": "code",
   "execution_count": null,
   "id": "5477d5fc",
   "metadata": {},
   "outputs": [],
   "source": []
  },
  {
   "cell_type": "code",
   "execution_count": null,
   "id": "ea8e7e8a",
   "metadata": {},
   "outputs": [],
   "source": []
  }
 ],
 "metadata": {
  "kernelspec": {
   "display_name": "Python 3 (ipykernel)",
   "language": "python",
   "name": "python3"
  },
  "language_info": {
   "codemirror_mode": {
    "name": "ipython",
    "version": 3
   },
   "file_extension": ".py",
   "mimetype": "text/x-python",
   "name": "python",
   "nbconvert_exporter": "python",
   "pygments_lexer": "ipython3",
   "version": "3.11.4"
  }
 },
 "nbformat": 4,
 "nbformat_minor": 5
}
